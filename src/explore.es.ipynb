{
 "cells": [
  {
   "cell_type": "markdown",
   "metadata": {},
   "source": [
    "# Explora aquí\n",
    "\n",
    "Se recomienda utilizar este cuaderno con fines de exploración.\n",
    "\n",
    "Por ejemplo:\n",
    "\n",
    "1. Puede importar el CSV generado por Python a su computadora portátil y explorarlo.\n",
    "2. Puede conectarse a su base de datos usando `pandas.read_sql` desde este cuaderno y explorarla."
   ]
  },
  {
   "cell_type": "code",
   "execution_count": 24,
   "metadata": {},
   "outputs": [],
   "source": [
    "import os\n",
    "from dotenv import load_dotenv\n",
    "from sqlalchemy import create_engine, text, Column, Integer, String\n",
    "from sqlalchemy.ext.declarative import declarative_base\n",
    "from sqlalchemy.orm import sessionmaker\n",
    "import pandas as pd"
   ]
  },
  {
   "cell_type": "code",
   "execution_count": 13,
   "metadata": {},
   "outputs": [
    {
     "name": "stderr",
     "output_type": "stream",
     "text": [
      "C:\\Program Files\\KMSpico\\temp\\ipykernel_13336\\501055496.py:7: MovedIn20Warning: The ``declarative_base()`` function is now available as sqlalchemy.orm.declarative_base(). (deprecated since: 2.0) (Background on SQLAlchemy 2.0 at: https://sqlalche.me/e/b8d9)\n",
      "  Base = declarative_base()\n"
     ]
    }
   ],
   "source": [
    "# cargar las variables del archivo .env\n",
    "load_dotenv()\n",
    "\n",
    "connection_string = f\"mysql+pymysql://{os.getenv('DB_USER')}:{os.getenv('DB_PASSWORD')}@{os.getenv('DB_HOST')}/{os.getenv('DB_NAME')}\"\n",
    "engine = create_engine(connection_string).execution_options(autocommit=True)\n",
    "SessionLocal = sessionmaker(autocommit=False, autoflush=False, bind=engine)\n",
    "Base = declarative_base()\n"
   ]
  },
  {
   "cell_type": "code",
   "execution_count": 18,
   "metadata": {},
   "outputs": [
    {
     "name": "stdout",
     "output_type": "stream",
     "text": [
      "No se encontraron tablas en la base de datos.\n"
     ]
    }
   ],
   "source": [
    "try:\n",
    "    with engine.connect() as conn:\n",
    "        result = conn.execute(text(\"SHOW TABLES\"))\n",
    "        if result.rowcount > 0:\n",
    "            print(\"Conectado exitosamente a la base de datos!\")\n",
    "            for table in result:\n",
    "                print(table[0])  # Imprime el nombre de cada tabla\n",
    "        else:\n",
    "            print(\"No se encontraron tablas en la base de datos.\")\n",
    "except Exception as e:\n",
    "    print(f\"Error al conectar a la base de datos: {str(e)}\")"
   ]
  },
  {
   "cell_type": "code",
   "execution_count": 25,
   "metadata": {},
   "outputs": [
    {
     "name": "stderr",
     "output_type": "stream",
     "text": [
      "C:\\Program Files\\KMSpico\\temp\\ipykernel_13336\\3206552394.py:4: MovedIn20Warning: The ``declarative_base()`` function is now available as sqlalchemy.orm.declarative_base(). (deprecated since: 2.0) (Background on SQLAlchemy 2.0 at: https://sqlalche.me/e/b8d9)\n",
      "  Base = declarative_base()\n"
     ]
    }
   ],
   "source": [
    "from sqlalchemy import Column, Integer, String\n",
    "from sqlalchemy.ext.declarative import declarative_base\n",
    "\n",
    "Base = declarative_base()\n",
    "\n",
    "class User(Base):\n",
    "    __tablename__ = 'users'\n",
    "    id = Column(Integer, primary_key=True, index=True)\n",
    "    name = Column(String, index=True, unique=True)\n",
    "    email = Column(String, index=True, unique=True)"
   ]
  },
  {
   "cell_type": "code",
   "execution_count": 26,
   "metadata": {},
   "outputs": [
    {
     "name": "stdout",
     "output_type": "stream",
     "text": [
      "Error al conectar a la base de datos: (pymysql.err.OperationalError) (2013, 'Lost connection to MySQL server during query ([WinError 10054] An existing connection was forcibly closed by the remote host)')\n",
      "[SQL: SHOW TABLES]\n",
      "(Background on this error at: https://sqlalche.me/e/20/e3q8)\n"
     ]
    }
   ],
   "source": [
    "try:\n",
    "    with engine.connect() as conn:\n",
    "        result = conn.execute(text(\"SHOW TABLES\"))\n",
    "        if result.rowcount > 0:\n",
    "            print(\"Conectado exitosamente a la base de datos!\")\n",
    "            for table in result:\n",
    "                print(table[0])  # Imprime el nombre de cada tabla\n",
    "        else:\n",
    "            print(\"No se encontraron tablas en la base de datos.\")\n",
    "except Exception as e:\n",
    "    print(f\"Error al conectar a la base de datos: {str(e)}\")"
   ]
  },
  {
   "cell_type": "code",
   "execution_count": 23,
   "metadata": {},
   "outputs": [
    {
     "ename": "SyntaxError",
     "evalue": "invalid syntax (762255725.py, line 1)",
     "output_type": "error",
     "traceback": [
      "\u001b[1;36m  Cell \u001b[1;32mIn[23], line 1\u001b[1;36m\u001b[0m\n\u001b[1;33m    create_publishers_table = CREATE TABLE publishers(\u001b[0m\n\u001b[1;37m                                     ^\u001b[0m\n\u001b[1;31mSyntaxError\u001b[0m\u001b[1;31m:\u001b[0m invalid syntax\n"
     ]
    }
   ],
   "source": [
    "create_publishers_table = CREATE TABLE publishers(\n",
    "    publisher_id INTEGER NOT NULL,\n",
    "    name VARCHAR(255) NOT NULL,\n",
    "    PRIMARY KEY(publisher_id)\n",
    ")\n",
    "\n",
    "cursor.execute(create_publishers_table)\n",
    "conexion.commit()"
   ]
  }
 ],
 "metadata": {
  "kernelspec": {
   "display_name": "Python 3.8.13 64-bit ('3.8.13')",
   "language": "python",
   "name": "python3"
  },
  "language_info": {
   "codemirror_mode": {
    "name": "ipython",
    "version": 3
   },
   "file_extension": ".py",
   "mimetype": "text/x-python",
   "name": "python",
   "nbconvert_exporter": "python",
   "pygments_lexer": "ipython3",
   "version": "3.12.5"
  },
  "orig_nbformat": 4,
  "vscode": {
   "interpreter": {
    "hash": "110cc1dee26208153f2972f08a2ad52b6a56238dc66d48e87fb757ef2996db56"
   }
  }
 },
 "nbformat": 4,
 "nbformat_minor": 2
}
