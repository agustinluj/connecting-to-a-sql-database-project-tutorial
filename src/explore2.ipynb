{
 "cells": [
  {
   "cell_type": "code",
   "execution_count": 1,
   "metadata": {},
   "outputs": [],
   "source": [
    "from sqlalchemy.orm import sessionmaker, declarative_base\n",
    "from sqlalchemy import Column, Integer, String\n",
    "from sqlalchemy.exc import SQLAlchemyError\n",
    "from sqlalchemy import create_engine, text\n",
    "from sqlalchemy import inspect\n",
    "from dotenv import load_dotenv\n",
    "import os\n",
    "import pymysql\n",
    "import pandas as pd"
   ]
  },
  {
   "cell_type": "code",
   "execution_count": 2,
   "metadata": {},
   "outputs": [],
   "source": [
    "# Cargo las claves del aarchivo .env\n",
    "load_dotenv() \n",
    "\n",
    "# URL de conexion\n",
    "DB_USER = os.getenv(\"DB_USER\")\n",
    "DB_PASSWORD = os.getenv(\"DB_PASSWORD\")\n",
    "DB_HOST = os.getenv(\"DB_HOST\")\n",
    "DB_PORT = os.getenv(\"DB_PORT\", \"3306\")\n",
    "DB_NAME = os.getenv(\"DB_NAME\")\n",
    "DATABASE_URL = f\"mysql+pymysql://{DB_USER}:{DB_PASSWORD}@{DB_HOST}:{DB_PORT}/{DB_NAME}\""
   ]
  },
  {
   "cell_type": "code",
   "execution_count": 3,
   "metadata": {},
   "outputs": [],
   "source": [
    "# creo un engine de SQLAlchemy\n",
    "engine = create_engine(DATABASE_URL)\n",
    "\n",
    "# creo la sesion para interactuar con la base de datos\n",
    "Session = sessionmaker(bind=engine)\n",
    "session = Session()\n",
    "\n",
    "Base = declarative_base() #declaro 'Base'"
   ]
  },
  {
   "cell_type": "code",
   "execution_count": 4,
   "metadata": {},
   "outputs": [
    {
     "name": "stdout",
     "output_type": "stream",
     "text": [
      "Conexión exitosa a la base de datos\n"
     ]
    }
   ],
   "source": [
    "# Test de conexion\n",
    "try:\n",
    "    connection = engine.connect() #me conecto y consulto algo simple\n",
    "    print(\"Conexión exitosa a la base de datos\")\n",
    "except SQLAlchemyError as e:\n",
    "    print(f\"Error al conectar a la base de datos: {e}\")\n",
    "finally:\n",
    "    connection.close()  # cierro la conexión\n"
   ]
  },
  {
   "cell_type": "code",
   "execution_count": 6,
   "metadata": {},
   "outputs": [],
   "source": [
    "# Crear la tabla\n",
    "test_create_table_query = text(\"\"\"\n",
    "CREATE TABLE IF NOT EXISTS publishers(\n",
    "    publisher_id INT NOT NULL,\n",
    "    name VARCHAR(255) NOT NULL,\n",
    "    PRIMARY KEY(publisher_id)\n",
    ");\n",
    "\"\"\")\n",
    "\n",
    "with engine.connect() as connection:\n",
    "    connection.execute(test_create_table_query)\n",
    "    connection.commit()  # hago el commit para confirmar\n"
   ]
  },
  {
   "cell_type": "code",
   "execution_count": 7,
   "metadata": {},
   "outputs": [],
   "source": [
    "create_authors_tables = text(\"\"\"\n",
    "CREATE TABLE IF NOT EXISTS authors(\n",
    "    author_id INT NOT NULL,\n",
    "    first_name VARCHAR(100) NOT NULL,\n",
    "    middle_name VARCHAR(50) NULL,\n",
    "    last_name VARCHAR(100) NULL,\n",
    "    PRIMARY KEY(author_id)\n",
    ");\n",
    "\"\"\")\n",
    "with engine.connect() as connection:\n",
    "    connection.execute(create_authors_tables)\n",
    "    connection.commit()  # hago el commit para confirmar"
   ]
  },
  {
   "cell_type": "code",
   "execution_count": 8,
   "metadata": {},
   "outputs": [],
   "source": [
    "create_books_table = text(\"\"\"\n",
    "CREATE TABLE IF NOT EXISTS books(\n",
    "    book_id INT NOT NULL,\n",
    "    title VARCHAR(255) NOT NULL,\n",
    "    total_pages INT NULL,\n",
    "    rating DECIMAL(4, 2) NULL,\n",
    "    isbn VARCHAR(13) NULL,\n",
    "    published_date DATE,\n",
    "    publisher_id INT NULL,\n",
    "    PRIMARY KEY(book_id),\n",
    "    CONSTRAINT fk_publisher FOREIGN KEY(publisher_id) REFERENCES publishers(publisher_id)\n",
    ");\n",
    "\"\"\")\n",
    "create_book_authors_table = text(\"\"\"\n",
    "CREATE TABLE IF NOT EXISTS book_authors (\n",
    "    book_id INT NOT NULL,\n",
    "    author_id INT NOT NULL,\n",
    "    PRIMARY KEY(book_id, author_id),\n",
    "    CONSTRAINT fk_book FOREIGN KEY(book_id) REFERENCES books(book_id) ON DELETE CASCADE,\n",
    "    CONSTRAINT fk_author FOREIGN KEY(author_id) REFERENCES authors(author_id) ON DELETE CASCADE\n",
    ");\n",
    "\"\"\")\n",
    "\n",
    "with engine.connect() as connection:\n",
    "    connection.execute(create_books_table)\n",
    "    connection.execute(create_book_authors_table)\n",
    "    connection.commit()  # hago el commit para confirmar"
   ]
  },
  {
   "cell_type": "code",
   "execution_count": 9,
   "metadata": {},
   "outputs": [
    {
     "name": "stdout",
     "output_type": "stream",
     "text": [
      "Tablas en la base de datos:\n",
      "authors\n",
      "book_authors\n",
      "books\n",
      "publishers\n"
     ]
    }
   ],
   "source": [
    "# Crear una conexión a la base de datos\n",
    "with engine.connect() as connection:\n",
    "    # Crear un inspector para la base de datos\n",
    "    inspector = inspect(connection)\n",
    "    \n",
    "    # Obtener la lista de tablas\n",
    "    tables = inspector.get_table_names()\n",
    "    \n",
    "    # Mostrar las tablas\n",
    "    print(\"Tablas en la base de datos:\")\n",
    "    for table in tables:\n",
    "        print(table)"
   ]
  },
  {
   "cell_type": "code",
   "execution_count": 23,
   "metadata": {},
   "outputs": [
    {
     "name": "stdout",
     "output_type": "stream",
     "text": [
      "No se encontraron resultados\n"
     ]
    }
   ],
   "source": [
    "table_of_query = 'publishers'\n",
    "query = text(f'SELECT * FROM {table_of_query};')\n",
    "\n",
    "with engine.connect() as connection:\n",
    "    result = connection.execute(query) \n",
    "    for i in result : \n",
    "        print(i)\n",
    "    else:\n",
    "        print(\"No se encontraron resultados\")\n"
   ]
  },
  {
   "cell_type": "code",
   "execution_count": 38,
   "metadata": {},
   "outputs": [],
   "source": [
    "\n",
    "sql_directory = 'C:/Users/Agustín/Desktop/4Geeks/Clases/11. Intro to SQL/connecting-to-a-sql-database-project-tutorial/src/sql'\n",
    "\n",
    "with open('C:/Users/Agustín/Desktop/4Geeks/Clases/11. Intro to SQL/connecting-to-a-sql-database-project-tutorial/src/sql/insert.sql', 'r') as sql_file:\n",
    "    sql_commands = sql_file.read()\n",
    "    with engine.connect() as connection:\n",
    "        transaction = connection.begin()  # Comienza una transacción\n",
    "        try: \n",
    "            for command in sql_commands.split(';'):\n",
    "                command = command.strip()\n",
    "                if command:\n",
    "                    connection.execute(text(command))\n",
    "            transaction.commit()\n",
    "        except Exception as e:\n",
    "            transaction.rollback()\n",
    "            print(f\"Error: {e}\")\n",
    "        connection.commit()  # Hacer el commit para confirmar las inserciones\n",
    "\n",
    "\n"
   ]
  },
  {
   "cell_type": "code",
   "execution_count": 49,
   "metadata": {},
   "outputs": [
    {
     "name": "stdout",
     "output_type": "stream",
     "text": [
      "   publisher_id             name\n",
      "0             1   O Reilly Media\n",
      "1             2     A Book Apart\n",
      "2             3       A K PETERS\n",
      "3             4   Academic Press\n",
      "4             5   Addison Wesley\n",
      "5             6  Albert&Sweigart\n",
      "6             7  Alfred A. Knopf\n"
     ]
    }
   ],
   "source": [
    "table_of_query = 'publishers'\n",
    "query = text(f'SELECT * FROM {table_of_query};')\n",
    "\n",
    "with engine.connect() as connection:\n",
    "    df_result = pd.read_sql(query,connection)\n",
    "    if df_result.empty:\n",
    "        print(\"No se encontraron resultados\")\n",
    "    else :\n",
    "        print(df_result)"
   ]
  },
  {
   "cell_type": "code",
   "execution_count": null,
   "metadata": {},
   "outputs": [],
   "source": []
  }
 ],
 "metadata": {
  "kernelspec": {
   "display_name": "Python 3",
   "language": "python",
   "name": "python3"
  },
  "language_info": {
   "codemirror_mode": {
    "name": "ipython",
    "version": 3
   },
   "file_extension": ".py",
   "mimetype": "text/x-python",
   "name": "python",
   "nbconvert_exporter": "python",
   "pygments_lexer": "ipython3",
   "version": "3.12.5"
  }
 },
 "nbformat": 4,
 "nbformat_minor": 2
}
