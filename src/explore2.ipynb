{
 "cells": [
  {
   "cell_type": "code",
   "execution_count": 49,
   "metadata": {},
   "outputs": [],
   "source": [
    "from sqlalchemy.orm import sessionmaker, declarative_base\n",
    "from sqlalchemy import Column, Integer, String\n",
    "from sqlalchemy.exc import SQLAlchemyError\n",
    "from sqlalchemy import create_engine\n",
    "from sqlalchemy import text\n",
    "from sqlalchemy import inspect, MetaData, select\n",
    "from dotenv import load_dotenv\n",
    "import os\n",
    "import pymysql\n",
    "import pandas as pd\n",
    "#!pip install -r requirements.txt"
   ]
  },
  {
   "cell_type": "code",
   "execution_count": 24,
   "metadata": {},
   "outputs": [],
   "source": [
    "# Cargo las claves del aarchivo .env\n",
    "load_dotenv() \n",
    "\n",
    "# URL de conexion\n",
    "DB_USER = os.getenv(\"DB_USER\")\n",
    "DB_PASSWORD = os.getenv(\"DB_PASSWORD\")\n",
    "DB_HOST = os.getenv(\"DB_HOST\")\n",
    "DB_PORT = os.getenv(\"DB_PORT\", \"3306\")\n",
    "DB_NAME = os.getenv(\"DB_NAME\")\n",
    "DATABASE_URL = f\"mysql+pymysql://{DB_USER}:{DB_PASSWORD}@{DB_HOST}:{DB_PORT}/{DB_NAME}\""
   ]
  },
  {
   "cell_type": "code",
   "execution_count": 25,
   "metadata": {},
   "outputs": [],
   "source": [
    "# creo un engine de SQLAlchemy\n",
    "engine = create_engine(DATABASE_URL)\n",
    "\n",
    "# creo la sesion para interactuar con la base de datos\n",
    "Session = sessionmaker(bind=engine)\n",
    "session = Session()\n",
    "\n",
    "Base = declarative_base() #declaro 'Base'"
   ]
  },
  {
   "cell_type": "code",
   "execution_count": 26,
   "metadata": {},
   "outputs": [
    {
     "name": "stdout",
     "output_type": "stream",
     "text": [
      "Conexión exitosa a la base de datos\n"
     ]
    }
   ],
   "source": [
    "# Test de conexion\n",
    "try:\n",
    "    connection = engine.connect() #me conecto y consulto algo simple\n",
    "    print(\"Conexión exitosa a la base de datos\")\n",
    "except SQLAlchemyError as e:\n",
    "    print(f\"Error al conectar a la base de datos: {e}\")\n",
    "finally:\n",
    "    connection.close()  # cierro la conexión\n"
   ]
  },
  {
   "cell_type": "code",
   "execution_count": 27,
   "metadata": {},
   "outputs": [],
   "source": [
    "# Crear la tabla\n",
    "test_create_table_query = text(\"\"\"\n",
    "CREATE TABLE IF NOT EXISTS publishers(\n",
    "    publisher_id INT NOT NULL,\n",
    "    name VARCHAR(255) NOT NULL,\n",
    "    PRIMARY KEY(publisher_id)\n",
    ");\n",
    "\"\"\")\n",
    "\n",
    "with engine.connect() as connection:\n",
    "    connection.execute(test_create_table_query)\n",
    "    connection.commit()  # hago el commit para confirmar\n"
   ]
  },
  {
   "cell_type": "code",
   "execution_count": 28,
   "metadata": {},
   "outputs": [],
   "source": [
    "create_authors_tables = text(\"\"\"\n",
    "CREATE TABLE IF NOT EXISTS authors(\n",
    "    author_id INT NOT NULL,\n",
    "    first_name VARCHAR(100) NOT NULL,\n",
    "    middle_name VARCHAR(50) NULL,\n",
    "    last_name VARCHAR(100) NULL,\n",
    "    PRIMARY KEY(author_id)\n",
    ");\n",
    "\"\"\")\n",
    "with engine.connect() as connection:\n",
    "    connection.execute(create_authors_tables)\n",
    "    connection.commit()  # hago el commit para confirmar"
   ]
  },
  {
   "cell_type": "code",
   "execution_count": 29,
   "metadata": {},
   "outputs": [],
   "source": [
    "create_books_table = text(\"\"\"\n",
    "CREATE TABLE IF NOT EXISTS books(\n",
    "    book_id INT NOT NULL,\n",
    "    title VARCHAR(255) NOT NULL,\n",
    "    total_pages INT NULL,\n",
    "    rating DECIMAL(4, 2) NULL,\n",
    "    isbn VARCHAR(13) NULL,\n",
    "    published_date DATE,\n",
    "    publisher_id INT NULL,\n",
    "    PRIMARY KEY(book_id),\n",
    "    CONSTRAINT fk_publisher FOREIGN KEY(publisher_id) REFERENCES publishers(publisher_id)\n",
    ");\n",
    "\"\"\")\n",
    "create_book_authors_table = text(\"\"\"\n",
    "CREATE TABLE IF NOT EXISTS book_authors (\n",
    "    book_id INT NOT NULL,\n",
    "    author_id INT NOT NULL,\n",
    "    PRIMARY KEY(book_id, author_id),\n",
    "    CONSTRAINT fk_book FOREIGN KEY(book_id) REFERENCES books(book_id) ON DELETE CASCADE,\n",
    "    CONSTRAINT fk_author FOREIGN KEY(author_id) REFERENCES authors(author_id) ON DELETE CASCADE\n",
    ");\n",
    "\"\"\")\n",
    "\n",
    "with engine.connect() as connection:\n",
    "    connection.execute(create_books_table)\n",
    "    connection.execute(create_book_authors_table)\n",
    "    connection.commit()  # hago el commit para confirmar"
   ]
  },
  {
   "cell_type": "code",
   "execution_count": 30,
   "metadata": {},
   "outputs": [
    {
     "name": "stdout",
     "output_type": "stream",
     "text": [
      "Tablas en la base de datos:\n",
      "authors\n",
      "book_authors\n",
      "books\n",
      "publishers\n"
     ]
    }
   ],
   "source": [
    "# Crear una conexión a la base de datos\n",
    "with engine.connect() as connection:\n",
    "    # Crear un inspector para la base de datos\n",
    "    inspector = inspect(connection)\n",
    "    \n",
    "    # Obtener la lista de tablas\n",
    "    tables = inspector.get_table_names()\n",
    "    \n",
    "    # Mostrar las tablas\n",
    "    print(\"Tablas en la base de datos:\")\n",
    "    for table in tables:\n",
    "        print(table)"
   ]
  },
  {
   "cell_type": "code",
   "execution_count": 31,
   "metadata": {},
   "outputs": [
    {
     "name": "stdout",
     "output_type": "stream",
     "text": [
      "(1, 'O Reilly Media')\n",
      "(2, 'A Book Apart')\n",
      "(3, 'A K PETERS')\n",
      "(4, 'Academic Press')\n",
      "(5, 'Addison Wesley')\n",
      "(6, 'Albert&Sweigart')\n",
      "(7, 'Alfred A. Knopf')\n",
      "No se encontraron resultados\n"
     ]
    }
   ],
   "source": [
    "table_of_query = 'publishers' # poner el nombre de la tabla a consultar\n",
    "query = text(f'SELECT * FROM {table_of_query};') # poner consultas a ejecutar\n",
    "\n",
    "with engine.connect() as connection:\n",
    "    result = connection.execute(query) \n",
    "    for i in result : \n",
    "        print(i)\n",
    "    else:\n",
    "        print(\"No se encontraron resultados\")\n"
   ]
  },
  {
   "cell_type": "code",
   "execution_count": 32,
   "metadata": {},
   "outputs": [
    {
     "name": "stdout",
     "output_type": "stream",
     "text": [
      "Error: (pymysql.err.IntegrityError) (1062, \"Duplicate entry '1' for key 'PRIMARY'\")\n",
      "[SQL: INSERT INTO publishers(publisher_id, name) VALUES (1, 'O Reilly Media')]\n",
      "(Background on this error at: https://sqlalche.me/e/20/gkpj)\n"
     ]
    }
   ],
   "source": [
    "# otra forma que encontre para usar los codigos dentro de los archivos\n",
    "sql_directory = 'C:/Users/Agustín/Desktop/4Geeks/Clases/11. Intro to SQL/connecting-to-a-sql-database-project-tutorial/src/sql'\n",
    "file_to_use = 'C:/Users/Agustín/Desktop/4Geeks/Clases/11. Intro to SQL/connecting-to-a-sql-database-project-tutorial/src/sql/insert.sql' \n",
    "with open(file_to_use, 'r') as sql_file:\n",
    "    sql_commands = sql_file.read()\n",
    "    with engine.connect() as connection:\n",
    "        transaction = connection.begin()  # Comienza ala transacción\n",
    "        try: \n",
    "            for command in sql_commands.split(';'):\n",
    "                command = command.strip()\n",
    "                if command:\n",
    "                    connection.execute(text(command))\n",
    "            transaction.commit()\n",
    "        except Exception as e:\n",
    "            transaction.rollback()\n",
    "            print(f\"Error: {e}\")\n",
    "        connection.commit()  # Hacer el commit para confirmar las ejecuciones\n",
    "\n",
    "\n"
   ]
  },
  {
   "cell_type": "code",
   "execution_count": 33,
   "metadata": {},
   "outputs": [
    {
     "name": "stdout",
     "output_type": "stream",
     "text": [
      "   publisher_id             name\n",
      "0             1   O Reilly Media\n",
      "1             2     A Book Apart\n",
      "2             3       A K PETERS\n",
      "3             4   Academic Press\n",
      "4             5   Addison Wesley\n",
      "5             6  Albert&Sweigart\n",
      "6             7  Alfred A. Knopf\n"
     ]
    }
   ],
   "source": [
    "#consultas simples de tablas\n",
    "table_of_query = 'publishers'\n",
    "query = text(f'SELECT * FROM {table_of_query};')\n",
    "\n",
    "with engine.connect() as connection:\n",
    "    df_result = pd.read_sql(query,connection)\n",
    "    if df_result.empty:\n",
    "        print(\"No se encontraron resultados\")\n",
    "    else :\n",
    "        print(df_result)"
   ]
  },
  {
   "cell_type": "code",
   "execution_count": 71,
   "metadata": {},
   "outputs": [
    {
     "name": "stdout",
     "output_type": "stream",
     "text": [
      "   book_id                                              title  total_pages  \\\n",
      "0        1        Lean Software Development: An Agile Toolkit          240   \n",
      "1        2                  Facing the Intelligence Explosion           91   \n",
      "2        3                                    Scala in Action          419   \n",
      "3        4  Patterns of Software: Tales from the Software ...          256   \n",
      "4        5                                    Anatomy Of LISP          446   \n",
      "5        6               Computing machinery and intelligence           24   \n",
      "6        7                       XML: Visual QuickStart Guide          269   \n",
      "7        8                                       SQL Cookbook          595   \n",
      "8        9  The Apollo Guidance Computer: Architecture And...          439   \n",
      "9       10  Minds and Computers: An Introduction to the Ph...          222   \n",
      "\n",
      "   rating           isbn published_date  publisher_id  \n",
      "0    4.17  9780320000000     2003-05-18             5  \n",
      "1    3.87           None     2013-02-01             7  \n",
      "2    3.74  9781940000000     2013-04-10             1  \n",
      "3    3.84  9780200000000     1996-08-15             1  \n",
      "4    4.43  9780070000000     1978-01-01             3  \n",
      "5    4.17           None     2009-03-22             4  \n",
      "6    3.66  9780320000000     2009-01-01             5  \n",
      "7    3.95  9780600000000     2005-12-01             7  \n",
      "8    4.29  9781440000000     2010-07-01             6  \n",
      "9    3.54  9780750000000     2007-02-13             7  \n"
     ]
    }
   ],
   "source": [
    "#consultas simples de tablas\n",
    "table_of_query = 'books'\n",
    "query = text(f'SELECT * FROM {table_of_query};')\n",
    "\n",
    "with engine.connect() as connection:\n",
    "    df_result = pd.read_sql(query,connection)\n",
    "    if df_result.empty:\n",
    "        print(\"No se encontraron resultados\")\n",
    "    else :\n",
    "        print(df_result)"
   ]
  },
  {
   "cell_type": "code",
   "execution_count": 62,
   "metadata": {},
   "outputs": [
    {
     "name": "stdout",
     "output_type": "stream",
     "text": [
      "Relación Uno a Uno detectada entre book_authors y books\n",
      "Relación Uno a Uno detectada entre book_authors y authors\n",
      "Relación Muchos a Muchos detectada entre books y authors a través de book_authors\n",
      "Relación Uno a Muchos detectada entre publishers (uno) y books (muchos)\n",
      "Tabla book_authors tiene una columna book_id que referencia la columna book_id de la tabla books\n",
      "Tabla book_authors tiene una columna author_id que referencia la columna author_id de la tabla authors\n",
      "Tabla books tiene una columna publisher_id que referencia la columna publisher_id de la tabla publishers\n"
     ]
    }
   ],
   "source": [
    "# consultando relaciones \n",
    "\n",
    "# creo el objeto MetaData\n",
    "metadata = MetaData()\n",
    "\n",
    "# para ver todas las tablas de la base de datos en el objeto metadata\n",
    "metadata.reflect(bind=engine)\n",
    "\n",
    "for table_name, table in metadata.tables.items():\n",
    "    for fk in table.foreign_keys:\n",
    "        if fk.parent.primary_key:  # Verifica si la clave foránea también es clave primaria\n",
    "            print(f\"Relación Uno a Uno detectada entre {table_name} y {fk.column.table.name}\")\n",
    "        else:\n",
    "            if not fk.parent.primary_key:  # La clave foránea no es clave primaria en la tabla secundaria\n",
    "                print(f\"Relación Uno a Muchos detectada entre {fk.column.table.name} (uno) y {table_name} (muchos)\")\n",
    "    fks = list(table.foreign_keys)\n",
    "    if len(fks) == 2 and table.primary_key.columns.keys() == [fk.parent.name for fk in fks]:\n",
    "        print(f\"Relación Muchos a Muchos detectada entre {fks[0].column.table.name} y {fks[1].column.table.name} a través de {table_name}\")\n",
    "\n",
    "# # Consultar las relaciones \n",
    "text2 = text(\"\"\"\n",
    "             SELECT\n",
    "             kcu.table_name AS foreign_table,\n",
    "             kcu.column_name AS foreign_column,\n",
    "             kcu.referenced_table_name AS primary_table,\n",
    "             kcu.referenced_column_name AS primary_column\n",
    "             FROM \n",
    "             information_schema.key_column_usage AS kcu\n",
    "             WHERE \n",
    "             kcu.referenced_table_name IS NOT NULL\n",
    "             AND kcu.constraint_schema = DATABASE();\n",
    "\"\"\")\n",
    "text2\n",
    "\n",
    "# Ejecutar la consulta\n",
    "with engine.connect() as connection:\n",
    "    result = connection.execute(text2)\n",
    "    relationships = {}\n",
    "    for row in result:\n",
    "        foreign_table, foreign_column, primary_table, primary_column = row\n",
    "        if foreign_table not in relationships:\n",
    "            relationships[foreign_table] = []\n",
    "        relationships[foreign_table].append((foreign_column, primary_table, primary_column))\n",
    "    \n",
    "    # Mostrar relaciones\n",
    "    for table, refs in relationships.items():\n",
    "        for ref in refs:\n",
    "            foreign_column, primary_table, primary_column = ref\n",
    "            print(f\"Tabla {table} tiene una columna {foreign_column} que referencia la columna {primary_column} de la tabla {primary_table}\")\n"
   ]
  },
  {
   "cell_type": "code",
   "execution_count": 72,
   "metadata": {},
   "outputs": [
    {
     "name": "stdout",
     "output_type": "stream",
     "text": [
      "('Merritt', 'Eric', 'Lean Software Development: An Agile Toolkit')\n",
      "('Merritt', 'Eric', 'Minds and Computers: An Introduction to the Philosophy of Artificial Intelligence')\n",
      "('Linda', 'Mui', 'SQL Cookbook')\n",
      "('Alecos', 'Papadatos', 'XML: Visual QuickStart Guide')\n",
      "('Anthony', 'Molinaro', 'Computing machinery and intelligence')\n",
      "('Anthony', 'Molinaro', 'The Apollo Guidance Computer: Architecture And Operation (Springer Praxis Books / Space Exploration)')\n",
      "('David', 'Cronin', 'Anatomy Of LISP')\n",
      "('Richard', 'Blum', 'Patterns of Software: Tales from the Software Community')\n",
      "('Yuval', 'Harari', 'Scala in Action')\n",
      "('Paul', 'Albitz', 'Facing the Intelligence Explosion')\n"
     ]
    }
   ],
   "source": [
    "### Consultas de multiples tablas\n",
    "\n",
    "# Definir las tablas\n",
    "publishers = metadata.tables['publishers']\n",
    "authors = metadata.tables['authors']\n",
    "books = metadata.tables['books']\n",
    "book_authors = metadata.tables['book_authors']\n",
    "\n",
    "\n",
    "# Crear un JOIN entre las tablas a través de la tabla de unión book_authors\n",
    "join_statement = (\n",
    "    book_authors\n",
    "    .join(authors, book_authors.c.author_id == authors.c.author_id)\n",
    "    .join(books, book_authors.c.book_id == books.c.book_id)\n",
    ")\n",
    "\n",
    "# Seleccionar las columnas\n",
    "query = select(\n",
    "    authors.c.first_name,\n",
    "    authors.c.last_name,\n",
    "    books.c.title\n",
    ").select_from(join_statement)\n",
    "\n",
    "# Ejecutar la consulta\n",
    "with engine.connect() as connection:\n",
    "    result = connection.execute(query)\n",
    "    for row in result:\n",
    "        print(row)\n"
   ]
  }
 ],
 "metadata": {
  "kernelspec": {
   "display_name": "Python 3",
   "language": "python",
   "name": "python3"
  },
  "language_info": {
   "codemirror_mode": {
    "name": "ipython",
    "version": 3
   },
   "file_extension": ".py",
   "mimetype": "text/x-python",
   "name": "python",
   "nbconvert_exporter": "python",
   "pygments_lexer": "ipython3",
   "version": "3.12.5"
  }
 },
 "nbformat": 4,
 "nbformat_minor": 2
}
